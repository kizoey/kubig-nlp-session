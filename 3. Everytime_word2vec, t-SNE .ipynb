{
  "nbformat": 4,
  "nbformat_minor": 0,
  "metadata": {
    "colab": {
      "name": "[KUBIG] 방학 NLP 세션 3주차_기다연.ipynb",
      "provenance": [],
      "collapsed_sections": []
    },
    "kernelspec": {
      "name": "python3",
      "display_name": "Python 3"
    },
    "language_info": {
      "name": "python"
    }
  },
  "cells": [
    {
      "cell_type": "markdown",
      "metadata": {
        "id": "GTAUlvmxUK-n"
      },
      "source": [
        "## [3주차_기다연] word2vec\n",
        "1. 데이터 크롤링\n",
        "2. 데이터셋 EDA, 전처리, Tokenization\n",
        "3. word2vec 모델 생성\n",
        "4. t-SNE를 이용한 시각화"
      ]
    },
    {
      "cell_type": "markdown",
      "metadata": {
        "id": "WfYu1Ly4fI73"
      },
      "source": [
        "#### **과제 내용**\n",
        "참고사이트: [Kaggle Gensim 실습](https://www.kaggle.com/pierremegret/gensim-word2vec-tutorial)\n",
        "1. 제공된 데이터셋 혹은 본인이 직접 선택한 데이터셋을 통해서 간단한 CBOW/Skip Gram 모델 훈련해보기\n",
        "2. t-sne를 활용해서 직접 훈련한 Word2Vec 모델에 다양한 단어를 입력해보며 시각화해보기\n",
        "3. 직접 훈련한 Word2Vec 모델에 관심있는 단어를 입력하고 해당 단어와 유사한 단어들 살펴보기\n",
        "4. 특정 두 단어 사이의 유사도(거리)를 측정해보고 모델이 잘 훈련되었는지 판단해보기\n",
        "5. Word2Vec 모델 훈련 시 window_size 등 다양한 초모수 설정 변경해가며 결과 비교해보기\n",
        "6. gensim 패키지에서 제공하는 사전학습 모델을 활용하여 각자 창의적으로 해보고 싶은 것 해보기"
      ]
    },
    {
      "cell_type": "code",
      "metadata": {
        "id": "H_MPhsUGVuED",
        "colab": {
          "base_uri": "https://localhost:8080/"
        },
        "outputId": "880549d1-1458-4e82-d975-cb8702f6019d"
      },
      "source": [
        "#Initial Setting (font, display)\n",
        "!sudo apt-get install -y fonts-nanum\n",
        "!sudo fc-cache -fv\n",
        "!rm ~/.cache/matplotlib -rf\n",
        "\n",
        "import matplotlib.pyplot as plt\n",
        "plt.rc('font', family='NanumBarunGothic') \n",
        "\n",
        "import matplotlib\n",
        "get_ipython().run_line_magic('config', \"InlineBackend.figure_format='retina'\") #화질 보정"
      ],
      "execution_count": null,
      "outputs": [
        {
          "output_type": "stream",
          "text": [
            "Reading package lists... Done\n",
            "Building dependency tree       \n",
            "Reading state information... Done\n",
            "The following NEW packages will be installed:\n",
            "  fonts-nanum\n",
            "0 upgraded, 1 newly installed, 0 to remove and 40 not upgraded.\n",
            "Need to get 9,604 kB of archives.\n",
            "After this operation, 29.5 MB of additional disk space will be used.\n",
            "Get:1 http://archive.ubuntu.com/ubuntu bionic/universe amd64 fonts-nanum all 20170925-1 [9,604 kB]\n",
            "Fetched 9,604 kB in 2s (5,398 kB/s)\n",
            "debconf: unable to initialize frontend: Dialog\n",
            "debconf: (No usable dialog-like program is installed, so the dialog based frontend cannot be used. at /usr/share/perl5/Debconf/FrontEnd/Dialog.pm line 76, <> line 1.)\n",
            "debconf: falling back to frontend: Readline\n",
            "debconf: unable to initialize frontend: Readline\n",
            "debconf: (This frontend requires a controlling tty.)\n",
            "debconf: falling back to frontend: Teletype\n",
            "dpkg-preconfigure: unable to re-open stdin: \n",
            "Selecting previously unselected package fonts-nanum.\n",
            "(Reading database ... 160837 files and directories currently installed.)\n",
            "Preparing to unpack .../fonts-nanum_20170925-1_all.deb ...\n",
            "Unpacking fonts-nanum (20170925-1) ...\n",
            "Setting up fonts-nanum (20170925-1) ...\n",
            "Processing triggers for fontconfig (2.12.6-0ubuntu2) ...\n",
            "/usr/share/fonts: caching, new cache contents: 0 fonts, 1 dirs\n",
            "/usr/share/fonts/truetype: caching, new cache contents: 0 fonts, 3 dirs\n",
            "/usr/share/fonts/truetype/humor-sans: caching, new cache contents: 1 fonts, 0 dirs\n",
            "/usr/share/fonts/truetype/liberation: caching, new cache contents: 16 fonts, 0 dirs\n",
            "/usr/share/fonts/truetype/nanum: caching, new cache contents: 10 fonts, 0 dirs\n",
            "/usr/local/share/fonts: caching, new cache contents: 0 fonts, 0 dirs\n",
            "/root/.local/share/fonts: skipping, no such directory\n",
            "/root/.fonts: skipping, no such directory\n",
            "/var/cache/fontconfig: cleaning cache directory\n",
            "/root/.cache/fontconfig: not cleaning non-existent cache directory\n",
            "/root/.fontconfig: not cleaning non-existent cache directory\n",
            "fc-cache: succeeded\n"
          ],
          "name": "stdout"
        }
      ]
    },
    {
      "cell_type": "markdown",
      "metadata": {
        "id": "9KEpRaRnT6HY"
      },
      "source": [
        "#### 1) 에브리타임 게시글 데이터 크롤링\n",
        "참고사이트: [Headless 크롬 크롤링](https://beomi.github.io/gb-crawling/posts/2017-09-28-HowToMakeWebCrawler-Headless-Chrome.html)"
      ]
    },
    {
      "cell_type": "code",
      "metadata": {
        "colab": {
          "base_uri": "https://localhost:8080/"
        },
        "id": "RA7OdYNOUGaD",
        "outputId": "4849175f-1cbf-42ae-9b6f-08dfddf55c50"
      },
      "source": [
        "import os\n",
        "import re\n",
        "import pandas as pd\n",
        "import numpy as np\n",
        "import seaborn as sns\n",
        "from scipy.sparse import csc_matrix\n",
        "from scipy.sparse.linalg import svds #SVD\n",
        "from string import punctuation\n",
        "\n",
        "#NLP Preprocessing package\n",
        "import nltk\n",
        "nltk.download('stopwords')\n",
        "from nltk.corpus import stopwords\n",
        "import string\n",
        "print('Ready')"
      ],
      "execution_count": null,
      "outputs": [
        {
          "output_type": "stream",
          "text": [
            "[nltk_data] Downloading package stopwords to /root/nltk_data...\n",
            "[nltk_data]   Unzipping corpora/stopwords.zip.\n",
            "Ready\n"
          ],
          "name": "stdout"
        }
      ]
    },
    {
      "cell_type": "code",
      "metadata": {
        "colab": {
          "base_uri": "https://localhost:8080/"
        },
        "id": "T7n56pyHUH8J",
        "outputId": "aae3a317-89ba-488a-f838-c01919a99f3d"
      },
      "source": [
        "!pip3 install selenium"
      ],
      "execution_count": null,
      "outputs": [
        {
          "output_type": "stream",
          "text": [
            "Collecting selenium\n",
            "  Downloading selenium-3.141.0-py2.py3-none-any.whl (904 kB)\n",
            "\u001b[K     |████████████████████████████████| 904 kB 5.2 MB/s \n",
            "\u001b[?25hRequirement already satisfied: urllib3 in /usr/local/lib/python3.7/dist-packages (from selenium) (1.24.3)\n",
            "Installing collected packages: selenium\n",
            "Successfully installed selenium-3.141.0\n"
          ],
          "name": "stdout"
        }
      ]
    },
    {
      "cell_type": "code",
      "metadata": {
        "id": "3PeQbUW8UJwN"
      },
      "source": [
        "#Packages for data crawling\n",
        "from selenium import webdriver\n",
        "from urllib.request import urlopen\n",
        "from bs4 import BeautifulSoup as bs\n",
        "from selenium.webdriver.common.keys import Keys\n",
        "import time\n",
        "import sys\n",
        "import requests\n",
        "\n",
        "#colab에서 selenium을 사용하기 위해서는 지정해줘야 하는 부분\n",
        "!apt-get update\n",
        "!apt install chromium-chromedriver"
      ],
      "execution_count": null,
      "outputs": []
    },
    {
      "cell_type": "code",
      "metadata": {
        "id": "p0-WWzTqULJB"
      },
      "source": [
        "url = 'https://everytime.kr/login'\n",
        "\n",
        "options = webdriver.ChromeOptions()\n",
        "options.add_argument('--headless')\n",
        "options.add_argument('--no-sandbox')\n",
        "options.add_argument(\"--single-process\")\n",
        "options.add_argument(\"--window-size=1920,1080\")\n",
        "options.add_argument(\"--disable-dev-shm-usage\")\n",
        "options.add_argument(\"disable-gpu\")\n",
        "\n",
        "#에브리타임에서 크롤링해오려는 경우에 참고\n",
        "options.add_argument(\"user-agent=Mozilla/5.0 (Macintosh; Intel Mac OS X 10_12_6) AppleWebKit/537.36 (KHTML, like Gecko) Chrome/61.0.3163.100 Safari/537.36\")\n",
        "driver = webdriver.Chrome('chromedriver', options=options)\n",
        "\n",
        "delay_time = 0.5\n",
        "driver.implicitly_wait(delay_time)\n",
        "\n",
        "driver.get(url)"
      ],
      "execution_count": null,
      "outputs": []
    },
    {
      "cell_type": "code",
      "metadata": {
        "id": "OAwMGmUwIn1I"
      },
      "source": [
        "#에브리타임 로그인 아이디/비밀번호\n",
        "id = \"\"\n",
        "pwd = \"\""
      ],
      "execution_count": null,
      "outputs": []
    },
    {
      "cell_type": "code",
      "metadata": {
        "id": "TcHdKgCaVM7q"
      },
      "source": [
        "#아이디, 비밀번호 접근\n",
        "input_id = driver.find_element_by_xpath(\"/html/body/div/form/p[1]/input\")\n",
        "input_id.send_keys(id)\n",
        "\n",
        "input_pwd = driver.find_element_by_xpath(\"/html/body/div/form/p[2]/input\")\n",
        "input_pwd.send_keys(pwd)"
      ],
      "execution_count": null,
      "outputs": []
    },
    {
      "cell_type": "code",
      "metadata": {
        "id": "JuV3IEuUVPDh"
      },
      "source": [
        "#로그인 버튼 클릭\n",
        "login = driver.find_element_by_xpath(\"/html/body/div/form/p[3]/input\")\n",
        "login.click()"
      ],
      "execution_count": null,
      "outputs": []
    },
    {
      "cell_type": "code",
      "metadata": {
        "id": "0OLrYl7Gb363"
      },
      "source": [
        "#Data Crawling (에브리타임 게시글 데이터)\n",
        "#게시글 데이터 담을 데이터프레임 생성\n",
        "everytime_data = pd.DataFrame(columns = ['post'])\n",
        "\n",
        "#게시글 1000개만 가져오기\n",
        "#한 페이지당 게시글 20개가 있으므로 50페이지까지 크롤링\n",
        "for k in range(1, 51): \n",
        "  for i in range(1, 21):\n",
        "    #취업/진로 게시판 (다른 게시판도 설정해주실 수 있습니다.) - 취업/진로 게시판의 경우 url 370507\n",
        "    url = \"https://everytime.kr/370507/p/%d\" % k\n",
        "    driver.get(url)\n",
        "    info = driver.find_elements_by_xpath(\"/html/body/div[2]/div[3]/article[%d]/a\" % i)\n",
        "        \n",
        "    for n in info:\n",
        "      n.click() #각 게시글로 접속\n",
        "      everytime_post = []\n",
        "      try:\n",
        "        post = driver.find_element_by_xpath(\"/html/body/div[2]/div[3]/article/a/p\")\n",
        "        post = post.text\n",
        "        everytime_post.append(post)\n",
        "\n",
        "        new_data = {'post': post}\n",
        "        everytime_data = everytime_data.append(new_data, ignore_index=True)\n",
        "        print('pass')\n",
        "      except:\n",
        "        print('error')"
      ],
      "execution_count": null,
      "outputs": []
    },
    {
      "cell_type": "code",
      "metadata": {
        "colab": {
          "base_uri": "https://localhost:8080/",
          "height": 564
        },
        "id": "G_azjN3VIyMu",
        "outputId": "45a9990d-ffe2-41a0-bfea-70c3be95c46a"
      },
      "source": [
        "#게시글이 제대로 크롤링 되어왔음을 확인하실 수 있습니다.\n",
        "#상위 post 5개 확인\n",
        "pd.set_option('display.max_colwidth', -1) #truncated되지 않고 post 모두 보여주기\n",
        "everytime_data[:5]"
      ],
      "execution_count": null,
      "outputs": [
        {
          "output_type": "stream",
          "text": [
            "/usr/local/lib/python3.7/dist-packages/ipykernel_launcher.py:3: FutureWarning: Passing a negative integer is deprecated in version 1.0 and will not be supported in future version. Instead, use None to not limit the column width.\n",
            "  This is separate from the ipykernel package so we can avoid doing imports until\n"
          ],
          "name": "stderr"
        },
        {
          "output_type": "execute_result",
          "data": {
            "text/html": [
              "<div>\n",
              "<style scoped>\n",
              "    .dataframe tbody tr th:only-of-type {\n",
              "        vertical-align: middle;\n",
              "    }\n",
              "\n",
              "    .dataframe tbody tr th {\n",
              "        vertical-align: top;\n",
              "    }\n",
              "\n",
              "    .dataframe thead th {\n",
              "        text-align: right;\n",
              "    }\n",
              "</style>\n",
              "<table border=\"1\" class=\"dataframe\">\n",
              "  <thead>\n",
              "    <tr style=\"text-align: right;\">\n",
              "      <th></th>\n",
              "      <th>post</th>\n",
              "    </tr>\n",
              "  </thead>\n",
              "  <tbody>\n",
              "    <tr>\n",
              "      <th>0</th>\n",
              "      <td>고려대학교 대외협력처 커뮤니케이션팀에서 근로장학생을 모집합니다.\\n\\n\\n1. 지원자격 : 최소 3개월 이상 근무 가능한 본교(서울캠퍼스) 휴학생 (대학원생, 수료생, 졸업생 불가)\\n\\n2. 모집인원 : 1명\\n\\n3. 업무내용 : 행정업무 보조\\n\\n4. 근무시간 : 09:00 ~ 17:30 (월~금)\\n\\n방학 단축근무 기간 중 10:00 ~ 17:00\\n\\n5. 급 여 : 시간당 8,800원\\n\\n6. 근무기간 : 2021년 7월 29일(목)부터\\n\\n7. 근무장소 : 본관 부속건물 201호 커뮤니케이션팀\\n\\n8. 신청방법 : 아래 링크의 신청서를 통해 신청해주시면 개별 연락 예정입니다.\\n\\nhttps://forms.gle/o7JkkCxXG7yiY22R7\\n\\n9. 채용기간 : 채용 시까지\\n\\n10. 문 의 : 02-3290-1061\\n\\n업무 관련해서 궁금한 게 있을 시에 쪽지 주시면 알려드리겠습니다!</td>\n",
              "    </tr>\n",
              "    <tr>\n",
              "      <th>1</th>\n",
              "      <td>저는 한참동안 진로 때문에 해매다가, 안정적인 직업 + 공항에 관심이 생겨서 최근 인국공이랑 한국공항공사를 알아보고 있는 3학년 취린이에요.\\n다름이 아니라, 공기업 취직(특히 일반직/행정직)에 성공하신, 혹은 준비 중이신 선배님들께 조언을 얻고 싶어서 글을 남깁니다.\\n\\n1. 보통 NCS 준비는 어느정도의 기간을 잡고 하나요? 사실 자신이 없어서 일찍 준비를 시작하고 싶어서 여쭤봅니다😭\\n\\n2. 자격증은 어학, 컴활, 한능검만 있어도 괜찮을까요? 현재 컴활 취득을 위해서 열심히 실기 응시중이고, 토익 990점과 토익스피킹 레벨8은 취득한 상태입니다!\\n\\n3. 자소서나 경험/경력 사항에 쓸거리가 있으려면 인턴경험이 필요할 것 같은데, 선배님들은 인턴을 몇 번 정도 하셨나요?\\n\\n4. 공기업 취직을 준비할 때 타겟 공기업 3~4곳 정도 잡는게 좋다고 들었는데, 선배님들은 어떤 곳들을 함께 준비하셨나요? 서로 직무나 전공과목이 유사한 곳들 위주로 고르는게 좋겠죠?\\n\\n5. 4학년 때 해커스같은 학원을 다니면 도움 많이 될까요?\\n\\n댓글 달아주시거나, 쪽지 주시면 너무너무 감사하겠습니다😊 아시는 만큼만 답해주셔도 좋아요!!</td>\n",
              "    </tr>\n",
              "    <tr>\n",
              "      <th>2</th>\n",
              "      <td>안녕하세요,\\nIT 에듀 테크 스타트업 ‘Major Map’에서\\n대학생활 / 전공 관련 인터뷰를 하실 재학생, 졸업생 분들을 모십니다.\\n\\n✔️지원 가능 학과: 문/이과 전공 ( 경영대 제외 )\\n\\n✔️활동 내용: 학과 및 대학 생활에 대한 소개 인터뷰\\n\\nex) 전공에서 어떤 내용을 배우는지 ?\\n해당 학과를 선택하게 된 계기는 무엇인지?\\n졸업 후 진로는 어떻게 되는지 ?\\n전공에 대해 기대했던 점과 다른 부분은 ?\\n해당 학과를 희망하는 학생들에게 한 마디 !!\\n\\nhttps://m.blog.naver.com/majormap20/222421032246\\n\\n✔️시기 : 편하신 시간대 ( 조율 가능 )\\n✔️보수 : 담당자 협의\\n\\n관심 있으신 분들께서는 저에게 쪽지로\\n\\n🌟성함 / 소속 대학 / 학번 / 학과 / 연락처\\n\\n말씀 주시면 담당자와 연결시켜 드리겠습니다 !!\\n\\n\\n\\n저와 같이 일했던 정말 좋은 분들이라서\\n꼭 추천 드리고 싶어 홍보글 올립니다!\\n\\n가뜩이나 어려운 코로나 시기에,\\n학과/ 학교 생활에 대해서\\n재미있게 인터뷰 하실 수 있는 달달한 기회예요!!\\n\\n많은 참여 부탁 드리겠습니다!!</td>\n",
              "    </tr>\n",
              "    <tr>\n",
              "      <th>3</th>\n",
              "      <td>안녕하세요, 고려대 선후배 동기분들!\\n제가 근무하고 있는 이랜드그룹 ESI에서 전환형 인턴을 모집합니다! (9~10월 인턴)\\n\\n[지원자격]\\n수료자/기졸업자 및 2022년 2월 졸업예정자\\n\\n[모집직무]\\n사업기획\\n\\n[모집일정]\\n2021.07.19(월)~08.01(일) 23시 59분까지\\n\\n자세한 사항은 아래 사이트 및 오픈채팅방 참고해주시면 감사드리겠습니다 :)\\n\\n- ESI 공식 홈페이지 : https://sites.google.com/view/sunjack/about-e-land-e-s-i\\n- 그룹 채용사이트 : https://www.elandscout.com/\\n- ESI 채용 문의 오픈채팅방 : https://open.kakao.com/o/gYgjVeod\\n\\n많은 관심 부탁드릴게요 :)</td>\n",
              "    </tr>\n",
              "    <tr>\n",
              "      <th>4</th>\n",
              "      <td>토스페이먼츠에서 8/1까지 Tech 직군 공개채용을 진행합니다! 정체되어있는 결제산업에서 혁신적인 변화를 함께 만들고 싶으신 분들은 주저말고 지원해주세요.\\n\\nhttps://recruit.tosspayments.com/2021</td>\n",
              "    </tr>\n",
              "  </tbody>\n",
              "</table>\n",
              "</div>"
            ],
            "text/plain": [
              "                                                                                                                                                                                                                                                                                                                                                                                                                                                                                                                                                                                                         post\n",
              "0  고려대학교 대외협력처 커뮤니케이션팀에서 근로장학생을 모집합니다.\\n\\n\\n1. 지원자격 : 최소 3개월 이상 근무 가능한 본교(서울캠퍼스) 휴학생 (대학원생, 수료생, 졸업생 불가)\\n\\n2. 모집인원 : 1명\\n\\n3. 업무내용 : 행정업무 보조\\n\\n4. 근무시간 : 09:00 ~ 17:30 (월~금)\\n\\n방학 단축근무 기간 중 10:00 ~ 17:00\\n\\n5. 급 여 : 시간당 8,800원\\n\\n6. 근무기간 : 2021년 7월 29일(목)부터\\n\\n7. 근무장소 : 본관 부속건물 201호 커뮤니케이션팀\\n\\n8. 신청방법 : 아래 링크의 신청서를 통해 신청해주시면 개별 연락 예정입니다.\\n\\nhttps://forms.gle/o7JkkCxXG7yiY22R7\\n\\n9. 채용기간 : 채용 시까지\\n\\n10. 문 의 : 02-3290-1061\\n\\n업무 관련해서 궁금한 게 있을 시에 쪽지 주시면 알려드리겠습니다!                                                                                                                            \n",
              "1  저는 한참동안 진로 때문에 해매다가, 안정적인 직업 + 공항에 관심이 생겨서 최근 인국공이랑 한국공항공사를 알아보고 있는 3학년 취린이에요.\\n다름이 아니라, 공기업 취직(특히 일반직/행정직)에 성공하신, 혹은 준비 중이신 선배님들께 조언을 얻고 싶어서 글을 남깁니다.\\n\\n1. 보통 NCS 준비는 어느정도의 기간을 잡고 하나요? 사실 자신이 없어서 일찍 준비를 시작하고 싶어서 여쭤봅니다😭\\n\\n2. 자격증은 어학, 컴활, 한능검만 있어도 괜찮을까요? 현재 컴활 취득을 위해서 열심히 실기 응시중이고, 토익 990점과 토익스피킹 레벨8은 취득한 상태입니다!\\n\\n3. 자소서나 경험/경력 사항에 쓸거리가 있으려면 인턴경험이 필요할 것 같은데, 선배님들은 인턴을 몇 번 정도 하셨나요?\\n\\n4. 공기업 취직을 준비할 때 타겟 공기업 3~4곳 정도 잡는게 좋다고 들었는데, 선배님들은 어떤 곳들을 함께 준비하셨나요? 서로 직무나 전공과목이 유사한 곳들 위주로 고르는게 좋겠죠?\\n\\n5. 4학년 때 해커스같은 학원을 다니면 도움 많이 될까요?\\n\\n댓글 달아주시거나, 쪽지 주시면 너무너무 감사하겠습니다😊 아시는 만큼만 답해주셔도 좋아요!!   \n",
              "2  안녕하세요,\\nIT 에듀 테크 스타트업 ‘Major Map’에서\\n대학생활 / 전공 관련 인터뷰를 하실 재학생, 졸업생 분들을 모십니다.\\n\\n✔️지원 가능 학과: 문/이과 전공 ( 경영대 제외 )\\n\\n✔️활동 내용: 학과 및 대학 생활에 대한 소개 인터뷰\\n\\nex) 전공에서 어떤 내용을 배우는지 ?\\n해당 학과를 선택하게 된 계기는 무엇인지?\\n졸업 후 진로는 어떻게 되는지 ?\\n전공에 대해 기대했던 점과 다른 부분은 ?\\n해당 학과를 희망하는 학생들에게 한 마디 !!\\n\\nhttps://m.blog.naver.com/majormap20/222421032246\\n\\n✔️시기 : 편하신 시간대 ( 조율 가능 )\\n✔️보수 : 담당자 협의\\n\\n관심 있으신 분들께서는 저에게 쪽지로\\n\\n🌟성함 / 소속 대학 / 학번 / 학과 / 연락처\\n\\n말씀 주시면 담당자와 연결시켜 드리겠습니다 !!\\n\\n\\n\\n저와 같이 일했던 정말 좋은 분들이라서\\n꼭 추천 드리고 싶어 홍보글 올립니다!\\n\\n가뜩이나 어려운 코로나 시기에,\\n학과/ 학교 생활에 대해서\\n재미있게 인터뷰 하실 수 있는 달달한 기회예요!!\\n\\n많은 참여 부탁 드리겠습니다!!\n",
              "3  안녕하세요, 고려대 선후배 동기분들!\\n제가 근무하고 있는 이랜드그룹 ESI에서 전환형 인턴을 모집합니다! (9~10월 인턴)\\n\\n[지원자격]\\n수료자/기졸업자 및 2022년 2월 졸업예정자\\n\\n[모집직무]\\n사업기획\\n\\n[모집일정]\\n2021.07.19(월)~08.01(일) 23시 59분까지\\n\\n자세한 사항은 아래 사이트 및 오픈채팅방 참고해주시면 감사드리겠습니다 :)\\n\\n- ESI 공식 홈페이지 : https://sites.google.com/view/sunjack/about-e-land-e-s-i\\n- 그룹 채용사이트 : https://www.elandscout.com/\\n- ESI 채용 문의 오픈채팅방 : https://open.kakao.com/o/gYgjVeod\\n\\n많은 관심 부탁드릴게요 :)                                                                                                                                                                                      \n",
              "4  토스페이먼츠에서 8/1까지 Tech 직군 공개채용을 진행합니다! 정체되어있는 결제산업에서 혁신적인 변화를 함께 만들고 싶으신 분들은 주저말고 지원해주세요.\\n\\nhttps://recruit.tosspayments.com/2021                                                                                                                                                                                                                                                                                                                                                                                                                                                                           "
            ]
          },
          "metadata": {
            "tags": []
          },
          "execution_count": 42
        }
      ]
    },
    {
      "cell_type": "code",
      "metadata": {
        "id": "5WEVes7Gdfdx"
      },
      "source": [
        "everytime_data.to_csv('drive/My Drive/21 SUM/KUBIG/방학 NLP 세션/data_crawling.csv')"
      ],
      "execution_count": null,
      "outputs": []
    },
    {
      "cell_type": "code",
      "metadata": {
        "colab": {
          "base_uri": "https://localhost:8080/"
        },
        "id": "3ACII0WAl4W0",
        "outputId": "2513d3e2-1022-4604-ab9a-cc041ce3a0a9"
      },
      "source": [
        "len(everytime_data)"
      ],
      "execution_count": null,
      "outputs": [
        {
          "output_type": "execute_result",
          "data": {
            "text/plain": [
              "877"
            ]
          },
          "metadata": {
            "tags": []
          },
          "execution_count": 44
        }
      ]
    },
    {
      "cell_type": "markdown",
      "metadata": {
        "id": "mh7ST6uiW2cz"
      },
      "source": [
        "#### 2) 데이터 전처리\n",
        "- 정규표현식 이용해서 한글만 남겨두기 (영어, 문자기호 제거)\n",
        "- pykospacing 이용해서 한국어 띄어쓰기 교정\n",
        "- hanspell 이용해서 한국어 맞춤법 교정"
      ]
    },
    {
      "cell_type": "code",
      "metadata": {
        "id": "1_aAGGxLYpSB"
      },
      "source": [
        "everytime_data = pd.read_csv('everytime_data.csv')\n",
        "del everytime_data['Unnamed: 0']"
      ],
      "execution_count": null,
      "outputs": []
    },
    {
      "cell_type": "code",
      "metadata": {
        "id": "K0NvI1_AWx_y"
      },
      "source": [
        "#1) 정규표현식 (영어/숫자 기호/문자 제거)\n",
        "import re\n",
        "\n",
        "#텍스트 정제 함수: 한글 이외의 문자는 모두 제거\n",
        "def text_cleaning(text):\n",
        "    hangul = re.compile('[^ ㄱ-ㅣ가-힣]+') #한글과 띄어쓰기를 제외한 모든 글자 \n",
        "    #hangul = re.compile('[^ \\u3131-\\u3163\\uac00-\\ud7a3]+') 위와 동일\n",
        "    result = hangul.sub('', str(text))\n",
        "    return(result)"
      ],
      "execution_count": null,
      "outputs": []
    },
    {
      "cell_type": "code",
      "metadata": {
        "colab": {
          "base_uri": "https://localhost:8080/",
          "height": 142
        },
        "id": "Nc092Y4_XKDB",
        "outputId": "d69675d3-ce95-452d-fbd0-1164603d18ef"
      },
      "source": [
        "for i in range(len(everytime_data)):\n",
        "    everytime_data.loc[i, 'post_kor'] = text_cleaning(everytime_data['post'][i])\n",
        "everytime_data.head(3)"
      ],
      "execution_count": null,
      "outputs": [
        {
          "output_type": "execute_result",
          "data": {
            "text/html": [
              "<div>\n",
              "<style scoped>\n",
              "    .dataframe tbody tr th:only-of-type {\n",
              "        vertical-align: middle;\n",
              "    }\n",
              "\n",
              "    .dataframe tbody tr th {\n",
              "        vertical-align: top;\n",
              "    }\n",
              "\n",
              "    .dataframe thead th {\n",
              "        text-align: right;\n",
              "    }\n",
              "</style>\n",
              "<table border=\"1\" class=\"dataframe\">\n",
              "  <thead>\n",
              "    <tr style=\"text-align: right;\">\n",
              "      <th></th>\n",
              "      <th>post</th>\n",
              "      <th>post_kor</th>\n",
              "    </tr>\n",
              "  </thead>\n",
              "  <tbody>\n",
              "    <tr>\n",
              "      <th>0</th>\n",
              "      <td>고려대학교 대외협력처 커뮤니케이션팀에서 근로장학생을 모집합니다.\\n\\n\\n1. 지원...</td>\n",
              "      <td>고려대학교 대외협력처 커뮤니케이션팀에서 근로장학생을 모집합니다 지원자격  최소 개월...</td>\n",
              "    </tr>\n",
              "    <tr>\n",
              "      <th>1</th>\n",
              "      <td>저는 한참동안 진로 때문에 해매다가, 안정적인 직업 + 공항에 관심이 생겨서 최근 ...</td>\n",
              "      <td>저는 한참동안 진로 때문에 해매다가 안정적인 직업  공항에 관심이 생겨서 최근 인국...</td>\n",
              "    </tr>\n",
              "    <tr>\n",
              "      <th>2</th>\n",
              "      <td>안녕하세요,\\nIT 에듀 테크 스타트업 ‘Major Map’에서\\n대학생활 / 전공...</td>\n",
              "      <td>안녕하세요 에듀 테크 스타트업  에서대학생활  전공 관련 인터뷰를 하실 재학생 졸업...</td>\n",
              "    </tr>\n",
              "  </tbody>\n",
              "</table>\n",
              "</div>"
            ],
            "text/plain": [
              "                                                post                                           post_kor\n",
              "0  고려대학교 대외협력처 커뮤니케이션팀에서 근로장학생을 모집합니다.\\n\\n\\n1. 지원...  고려대학교 대외협력처 커뮤니케이션팀에서 근로장학생을 모집합니다 지원자격  최소 개월...\n",
              "1  저는 한참동안 진로 때문에 해매다가, 안정적인 직업 + 공항에 관심이 생겨서 최근 ...  저는 한참동안 진로 때문에 해매다가 안정적인 직업  공항에 관심이 생겨서 최근 인국...\n",
              "2  안녕하세요,\\nIT 에듀 테크 스타트업 ‘Major Map’에서\\n대학생활 / 전공...  안녕하세요 에듀 테크 스타트업  에서대학생활  전공 관련 인터뷰를 하실 재학생 졸업..."
            ]
          },
          "metadata": {
            "tags": []
          },
          "execution_count": 6
        }
      ]
    },
    {
      "cell_type": "code",
      "metadata": {
        "id": "FsTHgvoOaApt",
        "colab": {
          "base_uri": "https://localhost:8080/",
          "height": 137
        },
        "outputId": "8afccaf1-fd86-4b64-c120-f1f510c3b52c"
      },
      "source": [
        "#2) 띄어쓰기 교정 (PykoSpacing 패키지 사용)\n",
        "!pip3 install git+https://github.com/haven-jeon/PyKoSpacing.git #한글 띄어쓰기(PyKoSpacing)"
      ],
      "execution_count": null,
      "outputs": [
        {
          "output_type": "stream",
          "text": [
            "Installing collected packages: argparse, pykospacing\n",
            "Successfully installed argparse-1.4.0 pykospacing-0.5\n"
          ],
          "name": "stdout"
        },
        {
          "output_type": "display_data",
          "data": {
            "application/vnd.colab-display-data+json": {
              "pip_warning": {
                "packages": [
                  "argparse"
                ]
              }
            }
          },
          "metadata": {
            "tags": []
          }
        }
      ]
    },
    {
      "cell_type": "code",
      "metadata": {
        "id": "qiX5F4C1XSrH"
      },
      "source": [
        "from pykospacing import Spacing\n",
        "spacing = Spacing()"
      ],
      "execution_count": null,
      "outputs": []
    },
    {
      "cell_type": "code",
      "metadata": {
        "id": "-TorIUoWnfIV"
      },
      "source": [
        "cleaned_corpus = []\n",
        "for sent in everytime_data['post_kor']:\n",
        "    cleaned_corpus.append(spacing(sent))"
      ],
      "execution_count": null,
      "outputs": []
    },
    {
      "cell_type": "code",
      "metadata": {
        "colab": {
          "base_uri": "https://localhost:8080/",
          "height": 1000
        },
        "id": "QukncPJSnp6t",
        "outputId": "a6bd4d02-bca7-433a-fd8f-2949cef4edf3"
      },
      "source": [
        "spaced_corpus = cleaned_corpus\n",
        "everytime_data['post_spaced'] = spaced_corpus\n",
        "pd.set_option('display.max_colwidth', -1) #truncated되지 않고 post 모두 보여주기\n",
        "everytime_data.head(3)"
      ],
      "execution_count": null,
      "outputs": [
        {
          "output_type": "stream",
          "text": [
            "/usr/local/lib/python3.7/dist-packages/ipykernel_launcher.py:3: FutureWarning: Passing a negative integer is deprecated in version 1.0 and will not be supported in future version. Instead, use None to not limit the column width.\n",
            "  This is separate from the ipykernel package so we can avoid doing imports until\n"
          ],
          "name": "stderr"
        },
        {
          "output_type": "execute_result",
          "data": {
            "text/html": [
              "<div>\n",
              "<style scoped>\n",
              "    .dataframe tbody tr th:only-of-type {\n",
              "        vertical-align: middle;\n",
              "    }\n",
              "\n",
              "    .dataframe tbody tr th {\n",
              "        vertical-align: top;\n",
              "    }\n",
              "\n",
              "    .dataframe thead th {\n",
              "        text-align: right;\n",
              "    }\n",
              "</style>\n",
              "<table border=\"1\" class=\"dataframe\">\n",
              "  <thead>\n",
              "    <tr style=\"text-align: right;\">\n",
              "      <th></th>\n",
              "      <th>post</th>\n",
              "      <th>post_kor</th>\n",
              "      <th>post_spaced</th>\n",
              "    </tr>\n",
              "  </thead>\n",
              "  <tbody>\n",
              "    <tr>\n",
              "      <th>0</th>\n",
              "      <td>고려대학교 대외협력처 커뮤니케이션팀에서 근로장학생을 모집합니다.\\n\\n\\n1. 지원자격 : 최소 3개월 이상 근무 가능한 본교(서울캠퍼스) 휴학생 (대학원생, 수료생, 졸업생 불가)\\n\\n2. 모집인원 : 1명\\n\\n3. 업무내용 : 행정업무 보조\\n\\n4. 근무시간 : 09:00 ~ 17:30 (월~금)\\n\\n방학 단축근무 기간 중 10:00 ~ 17:00\\n\\n5. 급 여 : 시간당 8,800원\\n\\n6. 근무기간 : 2021년 7월 29일(목)부터\\n\\n7. 근무장소 : 본관 부속건물 201호 커뮤니케이션팀\\n\\n8. 신청방법 : 아래 링크의 신청서를 통해 신청해주시면 개별 연락 예정입니다.\\n\\nhttps://forms.gle/o7JkkCxXG7yiY22R7\\n\\n9. 채용기간 : 채용 시까지\\n\\n10. 문 의 : 02-3290-1061\\n\\n업무 관련해서 궁금한 게 있을 시에 쪽지 주시면 알려드리겠습니다!</td>\n",
              "      <td>고려대학교 대외협력처 커뮤니케이션팀에서 근로장학생을 모집합니다 지원자격  최소 개월 이상 근무 가능한 본교서울캠퍼스 휴학생 대학원생 수료생 졸업생 불가 모집인원  명 업무내용  행정업무 보조 근무시간     월금방학 단축근무 기간 중    급 여  시간당 원 근무기간  년 월 일목부터 근무장소  본관 부속건물 호 커뮤니케이션팀 신청방법  아래 링크의 신청서를 통해 신청해주시면 개별 연락 예정입니다 채용기간  채용 시까지 문 의  업무 관련해서 궁금한 게 있을 시에 쪽지 주시면 알려드리겠습니다</td>\n",
              "      <td>고려대학교 대외협력처 커뮤니케이션팀에서 근로장학생을 모집합니다 지원 자격 최소 개월 이상 근무 가능한 본교 서울캠퍼스 휴학생 대학원생 수료생 졸업생 불가 모집인원 명 업무 내용 행정업무 보조 근무시간 월금방 학 단축근무 기간 중 급 여 시간당 원 근무기간 년 월 일 목부터 근무 장소 본관 부속건물 호 커뮤니케이션팀 신청 방법 아래 링크의 신 청서를 통해 신청해주시면 개별 연락 예정입니다 채용기간 채용 시까지 문 의 업무 관련해서 궁금한 게 있을 시에 쪽지 주시면 알려드리겠습니다</td>\n",
              "    </tr>\n",
              "    <tr>\n",
              "      <th>1</th>\n",
              "      <td>저는 한참동안 진로 때문에 해매다가, 안정적인 직업 + 공항에 관심이 생겨서 최근 인국공이랑 한국공항공사를 알아보고 있는 3학년 취린이에요.\\n다름이 아니라, 공기업 취직(특히 일반직/행정직)에 성공하신, 혹은 준비 중이신 선배님들께 조언을 얻고 싶어서 글을 남깁니다.\\n\\n1. 보통 NCS 준비는 어느정도의 기간을 잡고 하나요? 사실 자신이 없어서 일찍 준비를 시작하고 싶어서 여쭤봅니다😭\\n\\n2. 자격증은 어학, 컴활, 한능검만 있어도 괜찮을까요? 현재 컴활 취득을 위해서 열심히 실기 응시중이고, 토익 990점과 토익스피킹 레벨8은 취득한 상태입니다!\\n\\n3. 자소서나 경험/경력 사항에 쓸거리가 있으려면 인턴경험이 필요할 것 같은데, 선배님들은 인턴을 몇 번 정도 하셨나요?\\n\\n4. 공기업 취직을 준비할 때 타겟 공기업 3~4곳 정도 잡는게 좋다고 들었는데, 선배님들은 어떤 곳들을 함께 준비하셨나요? 서로 직무나 전공과목이 유사한 곳들 위주로 고르는게 좋겠죠?\\n\\n5. 4학년 때 해커스같은 학원을 다니면 도움 많이 될까요?\\n\\n댓글 달아주시거나, 쪽지 주시면 너무너무 감사하겠습니다😊 아시는 만큼만 답해주셔도 좋아요!!</td>\n",
              "      <td>저는 한참동안 진로 때문에 해매다가 안정적인 직업  공항에 관심이 생겨서 최근 인국공이랑 한국공항공사를 알아보고 있는 학년 취린이에요다름이 아니라 공기업 취직특히 일반직행정직에 성공하신 혹은 준비 중이신 선배님들께 조언을 얻고 싶어서 글을 남깁니다 보통  준비는 어느정도의 기간을 잡고 하나요 사실 자신이 없어서 일찍 준비를 시작하고 싶어서 여쭤봅니다 자격증은 어학 컴활 한능검만 있어도 괜찮을까요 현재 컴활 취득을 위해서 열심히 실기 응시중이고 토익 점과 토익스피킹 레벨은 취득한 상태입니다 자소서나 경험경력 사항에 쓸거리가 있으려면 인턴경험이 필요할 것 같은데 선배님들은 인턴을 몇 번 정도 하셨나요 공기업 취직을 준비할 때 타겟 공기업 곳 정도 잡는게 좋다고 들었는데 선배님들은 어떤 곳들을 함께 준비하셨나요 서로 직무나 전공과목이 유사한 곳들 위주로 고르는게 좋겠죠 학년 때 해커스같은 학원을 다니면 도움 많이 될까요댓글 달아주시거나 쪽지 주시면 너무너무 감사하겠습니다 아시는 만큼만 답해주셔도 좋아요</td>\n",
              "      <td>저는 한참 동안 진로 때문에 해 매다가 안정적인 직업 공항에 관심이 생겨서 최근 인 국공이랑 한국공항공사를 알아보고 있는 학년 취린이에요 다름이 아니라 공기업 취직특히 일반직 행정직에 성공하신 혹은 준비 중이 신 선배님들께 조언을 얻고 싶어서 글을 남깁니 다 보통 준비는 어느 정도의 기간을 잡고 하나요 사실 자신이 없어서 일찍 준비를 시작하고 싶어서 여쭤봅니다 자 격증은 어학 컴활 한 능검만 있어도 괜찮을까요 현재 컴 활 취득을 위해서 열심히 실기 응시 중이고 토익 점과 토익스피킹 레벨은 취득한 상태입니다 자소서나 경험 경력 사항에 쓸거리가 있으려면 인턴 경험이 필요할 것 같은데 선배님들은 인턴을 몇 번 정도 하셨나요 공기업 취직을 준비할 때 타겟 공기업 곳 정도 잡는 게 좋다고 들었는데 선배님들은 어떤 곳들을 함께 준비하 셨나요 서로 직무나 전공과목이 유사한 곳들 위주로 고르는 게 좋겠죠 학년 때 해커스 같은 학원을 다니면 도움 많이 될까 요댓글 달아주시거나 쪽지 주시면 너무너무 감사하겠습니다 아시는 만큼만 답해 주셔도 좋아요</td>\n",
              "    </tr>\n",
              "    <tr>\n",
              "      <th>2</th>\n",
              "      <td>안녕하세요,\\nIT 에듀 테크 스타트업 ‘Major Map’에서\\n대학생활 / 전공 관련 인터뷰를 하실 재학생, 졸업생 분들을 모십니다.\\n\\n✔️지원 가능 학과: 문/이과 전공 ( 경영대 제외 )\\n\\n✔️활동 내용: 학과 및 대학 생활에 대한 소개 인터뷰\\n\\nex) 전공에서 어떤 내용을 배우는지 ?\\n해당 학과를 선택하게 된 계기는 무엇인지?\\n졸업 후 진로는 어떻게 되는지 ?\\n전공에 대해 기대했던 점과 다른 부분은 ?\\n해당 학과를 희망하는 학생들에게 한 마디 !!\\n\\nhttps://m.blog.naver.com/majormap20/222421032246\\n\\n✔️시기 : 편하신 시간대 ( 조율 가능 )\\n✔️보수 : 담당자 협의\\n\\n관심 있으신 분들께서는 저에게 쪽지로\\n\\n🌟성함 / 소속 대학 / 학번 / 학과 / 연락처\\n\\n말씀 주시면 담당자와 연결시켜 드리겠습니다 !!\\n\\n\\n\\n저와 같이 일했던 정말 좋은 분들이라서\\n꼭 추천 드리고 싶어 홍보글 올립니다!\\n\\n가뜩이나 어려운 코로나 시기에,\\n학과/ 학교 생활에 대해서\\n재미있게 인터뷰 하실 수 있는 달달한 기회예요!!\\n\\n많은 참여 부탁 드리겠습니다!!</td>\n",
              "      <td>안녕하세요 에듀 테크 스타트업  에서대학생활  전공 관련 인터뷰를 하실 재학생 졸업생 분들을 모십니다지원 가능 학과 문이과 전공  경영대 제외 활동 내용 학과 및 대학 생활에 대한 소개 인터뷰 전공에서 어떤 내용을 배우는지 해당 학과를 선택하게 된 계기는 무엇인지졸업 후 진로는 어떻게 되는지 전공에 대해 기대했던 점과 다른 부분은 해당 학과를 희망하는 학생들에게 한 마디 시기  편하신 시간대  조율 가능 보수  담당자 협의관심 있으신 분들께서는 저에게 쪽지로성함  소속 대학  학번  학과  연락처말씀 주시면 담당자와 연결시켜 드리겠습니다 저와 같이 일했던 정말 좋은 분들이라서꼭 추천 드리고 싶어 홍보글 올립니다가뜩이나 어려운 코로나 시기에학과 학교 생활에 대해서재미있게 인터뷰 하실 수 있는 달달한 기회예요많은 참여 부탁 드리겠습니다</td>\n",
              "      <td>안녕하세요 에듀 테크 스타트업 에서 대학생활 전공 관련 인터뷰를 하실 재학생 졸업생 분들을 모십니다 지원 가능 학과 문이 과 전공 경영대 제외 활동 내용 학과 및 대학 생활에 대한 소개 인터뷰 전공에서 어떤 내용을 배우는 지 해당 학과를 선택하게 된 계기는 무엇인지 졸업 후 진로는 어떻게 되는지 전공에 대해 기대했던 점과 다른 부분은 해당 학과를 희망하는  학생들에게 한 마디 시기 편하신 시간대 조율 가능 보수 담당자 협의 관심 있으신 분들께서는 저에게 쪽지로 성함 소속 대학 학번 학과 연락처 말씀 주시면 담당자와 연결시켜 드리겠습니다 저와 같이 일했던 정말 좋은 분들이라서 꼭 추천 드리고 싶어 홍보 글 올립니다가뜩이나 어려운 코로나 시기에 학과 학교 생활에 대해서 재미있게 인터뷰 하실 수 있는 달달한 기 회예요많은 참여 부탁 드리겠습니다</td>\n",
              "    </tr>\n",
              "  </tbody>\n",
              "</table>\n",
              "</div>"
            ],
            "text/plain": [
              "                                                                                                                                                                                                                                                                                                                                                                                                                                                                                                                                                                                                         post  ...                                                                                                                                                                                                                                                                                                                                                                                                                                                                                                                                     post_spaced\n",
              "0  고려대학교 대외협력처 커뮤니케이션팀에서 근로장학생을 모집합니다.\\n\\n\\n1. 지원자격 : 최소 3개월 이상 근무 가능한 본교(서울캠퍼스) 휴학생 (대학원생, 수료생, 졸업생 불가)\\n\\n2. 모집인원 : 1명\\n\\n3. 업무내용 : 행정업무 보조\\n\\n4. 근무시간 : 09:00 ~ 17:30 (월~금)\\n\\n방학 단축근무 기간 중 10:00 ~ 17:00\\n\\n5. 급 여 : 시간당 8,800원\\n\\n6. 근무기간 : 2021년 7월 29일(목)부터\\n\\n7. 근무장소 : 본관 부속건물 201호 커뮤니케이션팀\\n\\n8. 신청방법 : 아래 링크의 신청서를 통해 신청해주시면 개별 연락 예정입니다.\\n\\nhttps://forms.gle/o7JkkCxXG7yiY22R7\\n\\n9. 채용기간 : 채용 시까지\\n\\n10. 문 의 : 02-3290-1061\\n\\n업무 관련해서 궁금한 게 있을 시에 쪽지 주시면 알려드리겠습니다!                                                                                                                              ...  고려대학교 대외협력처 커뮤니케이션팀에서 근로장학생을 모집합니다 지원 자격 최소 개월 이상 근무 가능한 본교 서울캠퍼스 휴학생 대학원생 수료생 졸업생 불가 모집인원 명 업무 내용 행정업무 보조 근무시간 월금방 학 단축근무 기간 중 급 여 시간당 원 근무기간 년 월 일 목부터 근무 장소 본관 부속건물 호 커뮤니케이션팀 신청 방법 아래 링크의 신 청서를 통해 신청해주시면 개별 연락 예정입니다 채용기간 채용 시까지 문 의 업무 관련해서 궁금한 게 있을 시에 쪽지 주시면 알려드리겠습니다                                                                                                                                                                                                                                                                 \n",
              "1  저는 한참동안 진로 때문에 해매다가, 안정적인 직업 + 공항에 관심이 생겨서 최근 인국공이랑 한국공항공사를 알아보고 있는 3학년 취린이에요.\\n다름이 아니라, 공기업 취직(특히 일반직/행정직)에 성공하신, 혹은 준비 중이신 선배님들께 조언을 얻고 싶어서 글을 남깁니다.\\n\\n1. 보통 NCS 준비는 어느정도의 기간을 잡고 하나요? 사실 자신이 없어서 일찍 준비를 시작하고 싶어서 여쭤봅니다😭\\n\\n2. 자격증은 어학, 컴활, 한능검만 있어도 괜찮을까요? 현재 컴활 취득을 위해서 열심히 실기 응시중이고, 토익 990점과 토익스피킹 레벨8은 취득한 상태입니다!\\n\\n3. 자소서나 경험/경력 사항에 쓸거리가 있으려면 인턴경험이 필요할 것 같은데, 선배님들은 인턴을 몇 번 정도 하셨나요?\\n\\n4. 공기업 취직을 준비할 때 타겟 공기업 3~4곳 정도 잡는게 좋다고 들었는데, 선배님들은 어떤 곳들을 함께 준비하셨나요? 서로 직무나 전공과목이 유사한 곳들 위주로 고르는게 좋겠죠?\\n\\n5. 4학년 때 해커스같은 학원을 다니면 도움 많이 될까요?\\n\\n댓글 달아주시거나, 쪽지 주시면 너무너무 감사하겠습니다😊 아시는 만큼만 답해주셔도 좋아요!!     ...  저는 한참 동안 진로 때문에 해 매다가 안정적인 직업 공항에 관심이 생겨서 최근 인 국공이랑 한국공항공사를 알아보고 있는 학년 취린이에요 다름이 아니라 공기업 취직특히 일반직 행정직에 성공하신 혹은 준비 중이 신 선배님들께 조언을 얻고 싶어서 글을 남깁니 다 보통 준비는 어느 정도의 기간을 잡고 하나요 사실 자신이 없어서 일찍 준비를 시작하고 싶어서 여쭤봅니다 자 격증은 어학 컴활 한 능검만 있어도 괜찮을까요 현재 컴 활 취득을 위해서 열심히 실기 응시 중이고 토익 점과 토익스피킹 레벨은 취득한 상태입니다 자소서나 경험 경력 사항에 쓸거리가 있으려면 인턴 경험이 필요할 것 같은데 선배님들은 인턴을 몇 번 정도 하셨나요 공기업 취직을 준비할 때 타겟 공기업 곳 정도 잡는 게 좋다고 들었는데 선배님들은 어떤 곳들을 함께 준비하 셨나요 서로 직무나 전공과목이 유사한 곳들 위주로 고르는 게 좋겠죠 학년 때 해커스 같은 학원을 다니면 도움 많이 될까 요댓글 달아주시거나 쪽지 주시면 너무너무 감사하겠습니다 아시는 만큼만 답해 주셔도 좋아요\n",
              "2  안녕하세요,\\nIT 에듀 테크 스타트업 ‘Major Map’에서\\n대학생활 / 전공 관련 인터뷰를 하실 재학생, 졸업생 분들을 모십니다.\\n\\n✔️지원 가능 학과: 문/이과 전공 ( 경영대 제외 )\\n\\n✔️활동 내용: 학과 및 대학 생활에 대한 소개 인터뷰\\n\\nex) 전공에서 어떤 내용을 배우는지 ?\\n해당 학과를 선택하게 된 계기는 무엇인지?\\n졸업 후 진로는 어떻게 되는지 ?\\n전공에 대해 기대했던 점과 다른 부분은 ?\\n해당 학과를 희망하는 학생들에게 한 마디 !!\\n\\nhttps://m.blog.naver.com/majormap20/222421032246\\n\\n✔️시기 : 편하신 시간대 ( 조율 가능 )\\n✔️보수 : 담당자 협의\\n\\n관심 있으신 분들께서는 저에게 쪽지로\\n\\n🌟성함 / 소속 대학 / 학번 / 학과 / 연락처\\n\\n말씀 주시면 담당자와 연결시켜 드리겠습니다 !!\\n\\n\\n\\n저와 같이 일했던 정말 좋은 분들이라서\\n꼭 추천 드리고 싶어 홍보글 올립니다!\\n\\n가뜩이나 어려운 코로나 시기에,\\n학과/ 학교 생활에 대해서\\n재미있게 인터뷰 하실 수 있는 달달한 기회예요!!\\n\\n많은 참여 부탁 드리겠습니다!!  ...  안녕하세요 에듀 테크 스타트업 에서 대학생활 전공 관련 인터뷰를 하실 재학생 졸업생 분들을 모십니다 지원 가능 학과 문이 과 전공 경영대 제외 활동 내용 학과 및 대학 생활에 대한 소개 인터뷰 전공에서 어떤 내용을 배우는 지 해당 학과를 선택하게 된 계기는 무엇인지 졸업 후 진로는 어떻게 되는지 전공에 대해 기대했던 점과 다른 부분은 해당 학과를 희망하는  학생들에게 한 마디 시기 편하신 시간대 조율 가능 보수 담당자 협의 관심 있으신 분들께서는 저에게 쪽지로 성함 소속 대학 학번 학과 연락처 말씀 주시면 담당자와 연결시켜 드리겠습니다 저와 같이 일했던 정말 좋은 분들이라서 꼭 추천 드리고 싶어 홍보 글 올립니다가뜩이나 어려운 코로나 시기에 학과 학교 생활에 대해서 재미있게 인터뷰 하실 수 있는 달달한 기 회예요많은 참여 부탁 드리겠습니다                                                                                                            \n",
              "\n",
              "[3 rows x 3 columns]"
            ]
          },
          "metadata": {
            "tags": []
          },
          "execution_count": 10
        }
      ]
    },
    {
      "cell_type": "code",
      "metadata": {
        "id": "xnA8QnCkpCR_"
      },
      "source": [
        "del everytime_data['post']\n",
        "del everytime_data['post_kor']"
      ],
      "execution_count": null,
      "outputs": []
    },
    {
      "cell_type": "code",
      "metadata": {
        "id": "26J1ANguQHg3"
      },
      "source": [
        "!pip install git+https://github.com/ssut/py-hanspell.git"
      ],
      "execution_count": null,
      "outputs": []
    },
    {
      "cell_type": "code",
      "metadata": {
        "colab": {
          "base_uri": "https://localhost:8080/",
          "height": 550
        },
        "id": "hF2I0fzOLjgy",
        "outputId": "e84afac4-1320-403a-faae-5551b8166da7"
      },
      "source": [
        "#3) 맞춤법 교정 (hanspell 패키지 사용)\n",
        "from hanspell import spell_checker\n",
        "\n",
        "corpus = []\n",
        "for sent in spaced_corpus:\n",
        "    try:\n",
        "      spelled_sent = spell_checker.check(sent)\n",
        "      checked_sent = spelled_sent.checked\n",
        "      corpus.append(checked_sent)\n",
        "    except:\n",
        "      pass\n",
        "\n",
        "everytime_data['spelled'] = corpus\n",
        "everytime_data.head(3)"
      ],
      "execution_count": null,
      "outputs": [
        {
          "output_type": "execute_result",
          "data": {
            "text/html": [
              "<div>\n",
              "<style scoped>\n",
              "    .dataframe tbody tr th:only-of-type {\n",
              "        vertical-align: middle;\n",
              "    }\n",
              "\n",
              "    .dataframe tbody tr th {\n",
              "        vertical-align: top;\n",
              "    }\n",
              "\n",
              "    .dataframe thead th {\n",
              "        text-align: right;\n",
              "    }\n",
              "</style>\n",
              "<table border=\"1\" class=\"dataframe\">\n",
              "  <thead>\n",
              "    <tr style=\"text-align: right;\">\n",
              "      <th></th>\n",
              "      <th>post_spaced</th>\n",
              "      <th>spelled</th>\n",
              "    </tr>\n",
              "  </thead>\n",
              "  <tbody>\n",
              "    <tr>\n",
              "      <th>0</th>\n",
              "      <td>고려대학교 대외협력처 커뮤니케이션팀에서 근로장학생을 모집합니다 지원 자격 최소 개월 이상 근무 가능한 본교 서울캠퍼스 휴학생 대학원생 수료생 졸업생 불가 모집인원 명 업무 내용 행정업무 보조 근무시간 월금방 학 단축근무 기간 중 급 여 시간당 원 근무기간 년 월 일 목부터 근무 장소 본관 부속건물 호 커뮤니케이션팀 신청 방법 아래 링크의 신 청서를 통해 신청해주시면 개별 연락 예정입니다 채용기간 채용 시까지 문 의 업무 관련해서 궁금한 게 있을 시에 쪽지 주시면 알려드리겠습니다</td>\n",
              "      <td>고려대학교 대외협력처 커뮤니케이션팀에서 근로장학생을 모집합니다 지원 자격 최소 개월 이상 근무 가능한 본교 서울캠퍼스 휴학생 대학원생 수료생 졸업생 불가 모집인원 명 업무 내용 행정업무 보조 근무시간 월은 방 학 단축근무 기간 중 급여 시간당 원 근무기간 연월일 목부터 근무 장소 본관 부속건물 호 커뮤니케이션팀 신청 방법 아래 링크의 신 청서를 통해 신청해주시면 개별 연락 예정입니다 채용기간 채용 시까지 문의 업무 관련해서 궁금한 게 있을 시에 쪽지 주시면 알려드리겠습니다</td>\n",
              "    </tr>\n",
              "    <tr>\n",
              "      <th>1</th>\n",
              "      <td>저는 한참 동안 진로 때문에 해 매다가 안정적인 직업 공항에 관심이 생겨서 최근 인 국공이랑 한국공항공사를 알아보고 있는 학년 취린이에요 다름이 아니라 공기업 취직특히 일반직 행정직에 성공하신 혹은 준비 중이 신 선배님들께 조언을 얻고 싶어서 글을 남깁니 다 보통 준비는 어느 정도의 기간을 잡고 하나요 사실 자신이 없어서 일찍 준비를 시작하고 싶어서 여쭤봅니다 자 격증은 어학 컴활 한 능검만 있어도 괜찮을까요 현재 컴 활 취득을 위해서 열심히 실기 응시 중이고 토익 점과 토익스피킹 레벨은 취득한 상태입니다 자소서나 경험 경력 사항에 쓸거리가 있으려면 인턴 경험이 필요할 것 같은데 선배님들은 인턴을 몇 번 정도 하셨나요 공기업 취직을 준비할 때 타겟 공기업 곳 정도 잡는 게 좋다고 들었는데 선배님들은 어떤 곳들을 함께 준비하 셨나요 서로 직무나 전공과목이 유사한 곳들 위주로 고르는 게 좋겠죠 학년 때 해커스 같은 학원을 다니면 도움 많이 될까 요댓글 달아주시거나 쪽지 주시면 너무너무 감사하겠습니다 아시는 만큼만 답해 주셔도 좋아요</td>\n",
              "      <td></td>\n",
              "    </tr>\n",
              "    <tr>\n",
              "      <th>2</th>\n",
              "      <td>안녕하세요 에듀 테크 스타트업 에서 대학생활 전공 관련 인터뷰를 하실 재학생 졸업생 분들을 모십니다 지원 가능 학과 문이 과 전공 경영대 제외 활동 내용 학과 및 대학 생활에 대한 소개 인터뷰 전공에서 어떤 내용을 배우는 지 해당 학과를 선택하게 된 계기는 무엇인지 졸업 후 진로는 어떻게 되는지 전공에 대해 기대했던 점과 다른 부분은 해당 학과를 희망하는  학생들에게 한 마디 시기 편하신 시간대 조율 가능 보수 담당자 협의 관심 있으신 분들께서는 저에게 쪽지로 성함 소속 대학 학번 학과 연락처 말씀 주시면 담당자와 연결시켜 드리겠습니다 저와 같이 일했던 정말 좋은 분들이라서 꼭 추천 드리고 싶어 홍보 글 올립니다가뜩이나 어려운 코로나 시기에 학과 학교 생활에 대해서 재미있게 인터뷰 하실 수 있는 달달한 기 회예요많은 참여 부탁 드리겠습니다</td>\n",
              "      <td>안녕하세요 에듀 테크 스타트업에서 대학생활 전공 관련 인터뷰를 하실 재학생 졸업생분들을 모십니다 지원 가능 학과 문이 과 전공 경영대 제외 활동 내용 학과 및 대학 생활에 대한 소개 인터뷰 전공에서 어떤 내용을 배우는지 해당 학과를 선택하게 된 계기는 무엇인지 졸업 후 진로는 어떻게 되는지 전공에 대해 기대했던 점과 다른 부분은 해당 학과를 희망하는  학생들에게 한 마디 시기 편하신 시간대 조율 가능 보수 담당자 협의 관심 있으신 분들께서는 저에게 쪽지로 성함 소속 대학 학번 학과 연락처 말씀 주시면 담당자와 연결해 드리겠습니다 저와 같이 일했던 정말 좋은 분들이라서 꼭 추천드리고 싶어 홍보 글 올립니다 가뜩이나 어려운 코로나 시기에 학과 학교생활에 대해서 재미있게 인터뷰하실 수 있는 달달한 기 회예요 많은 참여 부탁드리겠습니다</td>\n",
              "    </tr>\n",
              "  </tbody>\n",
              "</table>\n",
              "</div>"
            ],
            "text/plain": [
              "                                                                                                                                                                                                                                                                                                                                                                                                                                                                                                                                      post_spaced                                                                                                                                                                                                                                                                                                                                                                                                                       spelled\n",
              "0  고려대학교 대외협력처 커뮤니케이션팀에서 근로장학생을 모집합니다 지원 자격 최소 개월 이상 근무 가능한 본교 서울캠퍼스 휴학생 대학원생 수료생 졸업생 불가 모집인원 명 업무 내용 행정업무 보조 근무시간 월금방 학 단축근무 기간 중 급 여 시간당 원 근무기간 년 월 일 목부터 근무 장소 본관 부속건물 호 커뮤니케이션팀 신청 방법 아래 링크의 신 청서를 통해 신청해주시면 개별 연락 예정입니다 채용기간 채용 시까지 문 의 업무 관련해서 궁금한 게 있을 시에 쪽지 주시면 알려드리겠습니다                                                                                                                                                                                                                                                                   고려대학교 대외협력처 커뮤니케이션팀에서 근로장학생을 모집합니다 지원 자격 최소 개월 이상 근무 가능한 본교 서울캠퍼스 휴학생 대학원생 수료생 졸업생 불가 모집인원 명 업무 내용 행정업무 보조 근무시간 월은 방 학 단축근무 기간 중 급여 시간당 원 근무기간 연월일 목부터 근무 장소 본관 부속건물 호 커뮤니케이션팀 신청 방법 아래 링크의 신 청서를 통해 신청해주시면 개별 연락 예정입니다 채용기간 채용 시까지 문의 업무 관련해서 궁금한 게 있을 시에 쪽지 주시면 알려드리겠습니다                                                                                                                                                  \n",
              "1  저는 한참 동안 진로 때문에 해 매다가 안정적인 직업 공항에 관심이 생겨서 최근 인 국공이랑 한국공항공사를 알아보고 있는 학년 취린이에요 다름이 아니라 공기업 취직특히 일반직 행정직에 성공하신 혹은 준비 중이 신 선배님들께 조언을 얻고 싶어서 글을 남깁니 다 보통 준비는 어느 정도의 기간을 잡고 하나요 사실 자신이 없어서 일찍 준비를 시작하고 싶어서 여쭤봅니다 자 격증은 어학 컴활 한 능검만 있어도 괜찮을까요 현재 컴 활 취득을 위해서 열심히 실기 응시 중이고 토익 점과 토익스피킹 레벨은 취득한 상태입니다 자소서나 경험 경력 사항에 쓸거리가 있으려면 인턴 경험이 필요할 것 같은데 선배님들은 인턴을 몇 번 정도 하셨나요 공기업 취직을 준비할 때 타겟 공기업 곳 정도 잡는 게 좋다고 들었는데 선배님들은 어떤 곳들을 함께 준비하 셨나요 서로 직무나 전공과목이 유사한 곳들 위주로 고르는 게 좋겠죠 학년 때 해커스 같은 학원을 다니면 도움 많이 될까 요댓글 달아주시거나 쪽지 주시면 너무너무 감사하겠습니다 아시는 만큼만 답해 주셔도 좋아요                                                                                                                                                                                                                                                                                                                                                                                                                              \n",
              "2  안녕하세요 에듀 테크 스타트업 에서 대학생활 전공 관련 인터뷰를 하실 재학생 졸업생 분들을 모십니다 지원 가능 학과 문이 과 전공 경영대 제외 활동 내용 학과 및 대학 생활에 대한 소개 인터뷰 전공에서 어떤 내용을 배우는 지 해당 학과를 선택하게 된 계기는 무엇인지 졸업 후 진로는 어떻게 되는지 전공에 대해 기대했던 점과 다른 부분은 해당 학과를 희망하는  학생들에게 한 마디 시기 편하신 시간대 조율 가능 보수 담당자 협의 관심 있으신 분들께서는 저에게 쪽지로 성함 소속 대학 학번 학과 연락처 말씀 주시면 담당자와 연결시켜 드리겠습니다 저와 같이 일했던 정말 좋은 분들이라서 꼭 추천 드리고 싶어 홍보 글 올립니다가뜩이나 어려운 코로나 시기에 학과 학교 생활에 대해서 재미있게 인터뷰 하실 수 있는 달달한 기 회예요많은 참여 부탁 드리겠습니다                                                                                                              안녕하세요 에듀 테크 스타트업에서 대학생활 전공 관련 인터뷰를 하실 재학생 졸업생분들을 모십니다 지원 가능 학과 문이 과 전공 경영대 제외 활동 내용 학과 및 대학 생활에 대한 소개 인터뷰 전공에서 어떤 내용을 배우는지 해당 학과를 선택하게 된 계기는 무엇인지 졸업 후 진로는 어떻게 되는지 전공에 대해 기대했던 점과 다른 부분은 해당 학과를 희망하는  학생들에게 한 마디 시기 편하신 시간대 조율 가능 보수 담당자 협의 관심 있으신 분들께서는 저에게 쪽지로 성함 소속 대학 학번 학과 연락처 말씀 주시면 담당자와 연결해 드리겠습니다 저와 같이 일했던 정말 좋은 분들이라서 꼭 추천드리고 싶어 홍보 글 올립니다 가뜩이나 어려운 코로나 시기에 학과 학교생활에 대해서 재미있게 인터뷰하실 수 있는 달달한 기 회예요 많은 참여 부탁드리겠습니다"
            ]
          },
          "metadata": {
            "tags": []
          },
          "execution_count": 52
        }
      ]
    },
    {
      "cell_type": "markdown",
      "metadata": {
        "id": "297G4TB5gQmF"
      },
      "source": [
        "#### 3) Gensim 패키지로 word2vec 모델 훈련\n",
        "- `Word2Vec()`<br>\n",
        "In this first step, I set up the parameters of the model one-by-one.\n",
        "I do not supply the parameter sentences, and therefore leave the model uninitialized, purposefully.\n",
        "\n",
        "- `build_vocab()`<br>\n",
        "Here it builds the vocabulary from a sequence of sentences and thus initialized the model.\n",
        "With the loggings, I can follow the progress and even more important, the effect of min_count and sample on the word corpus. I noticed that these two parameters, and in particular sample, have a great influence over the performance of a model. Displaying both allows for a more accurate and an easier management of their influence.\n",
        "\n",
        "- `train()`<br>\n",
        "Finally, trains the model.\n",
        "The loggings here are mainly useful for monitoring, making sure that no threads are executed instantaneously.\n",
        "\n"
      ]
    },
    {
      "cell_type": "markdown",
      "metadata": {
        "id": "-VPV1rH7g51h"
      },
      "source": [
        "##### **Word2Vec의 파라미터 리스트**\n",
        "- `min_count` = int<br>Ignores all words with total absolute frequency lower than this - (2, 100)\n",
        "- `window` = int<br>The maximum distance between the current and predicted word within a sentence. E.g. window words on the left and window words on the left of our target - (2, 10)\n",
        "- `size` = int<br>Dimensionality of the feature vectors. - (50, 300)\n",
        "- `sample` = float<br>The threshold for configuring which higher-frequency words are randomly downsampled. Highly influencial. - (0, 1e-5)\n",
        "- `alpha` = float<br>The initial learning rate - (0.01, 0.05)\n",
        "- `min_alpha` = float<br>Learning rate will linearly drop to min_alpha as training progresses. To set it: alpha - (min_alpha * epochs) ~ 0.00\n",
        "- `negative` = int<br>If > 0, negative sampling will be used, the int for negative specifies how many \"noise words\" should be drown. If set to 0, no negative sampling is used. - (5, 20)\n",
        "- `workers` = int<br>Use these many worker threads to train the model (=faster training with multicore machines)"
      ]
    },
    {
      "cell_type": "code",
      "metadata": {
        "id": "OI7N2s9obXrg"
      },
      "source": [
        "#빈도높은 bigram까지 함께 고려\n",
        "from gensim.models.phrases import Phrases, Phraser\n",
        "sent = [row.split() for row in everytime_data['spelled']]\n",
        "phrases = Phrases(sent, min_count=30, progress_per=10000)"
      ],
      "execution_count": null,
      "outputs": []
    },
    {
      "cell_type": "code",
      "metadata": {
        "id": "p9XYFa_Kh5K4"
      },
      "source": [
        "bigram = Phraser(phrases)\n",
        "sentences = bigram[sent]"
      ],
      "execution_count": null,
      "outputs": []
    },
    {
      "cell_type": "code",
      "metadata": {
        "id": "pvlb1pHdfiur"
      },
      "source": [
        "#Word2vec 모델 생성 .Word2Vec()\n",
        "import multiprocessing\n",
        "from gensim.models import Word2Vec\n",
        "\n",
        "w2v_model = Word2Vec(min_count=5,\n",
        "                     window=2,\n",
        "                     size=300,\n",
        "                     sample=6e-5, \n",
        "                     alpha=0.03, \n",
        "                     min_alpha=0.0007, \n",
        "                     negative=20)"
      ],
      "execution_count": null,
      "outputs": []
    },
    {
      "cell_type": "code",
      "metadata": {
        "id": "eiepgdqApPey"
      },
      "source": [
        "from time import time"
      ],
      "execution_count": null,
      "outputs": []
    },
    {
      "cell_type": "code",
      "metadata": {
        "colab": {
          "base_uri": "https://localhost:8080/"
        },
        "id": "EdmAAr4viBbX",
        "outputId": "01d092c9-11e5-4a6a-98be-4b1c39e01824"
      },
      "source": [
        "#Word2vec 사전 생성 .build_vocab()\n",
        "t = time()\n",
        "w2v_model.build_vocab(sentences, progress_per=10000)\n",
        "print('Time to build vocab: {} mins'.format(round((time() - t) / 60, 2)))"
      ],
      "execution_count": null,
      "outputs": [
        {
          "output_type": "stream",
          "text": [
            "Time to build vocab: 0.01 mins\n"
          ],
          "name": "stdout"
        }
      ]
    },
    {
      "cell_type": "code",
      "metadata": {
        "colab": {
          "base_uri": "https://localhost:8080/"
        },
        "id": "mYUm1sxCiIeV",
        "outputId": "b78abc80-c269-4b74-ab83-e3169d6dd559"
      },
      "source": [
        "#Word2vec 모델 훈련 .train()\n",
        "t = time()\n",
        "w2v_model.train(sentences, total_examples=w2v_model.corpus_count, epochs=30, report_delay=1)\n",
        "print('Time to train the model: {} mins'.format(round((time() - t) / 60, 2)))"
      ],
      "execution_count": null,
      "outputs": [
        {
          "output_type": "stream",
          "text": [
            "Time to train the model: 0.09 mins\n"
          ],
          "name": "stdout"
        }
      ]
    },
    {
      "cell_type": "code",
      "metadata": {
        "id": "PShLewrHiUoX"
      },
      "source": [
        "w2v_model.init_sims(replace=True)"
      ],
      "execution_count": null,
      "outputs": []
    },
    {
      "cell_type": "code",
      "metadata": {
        "colab": {
          "base_uri": "https://localhost:8080/"
        },
        "id": "uIRpGxxkijGu",
        "outputId": "1031ab8b-ecd9-4ca0-b46f-1c6762fecafd"
      },
      "source": [
        "#'인턴'과 가장 유사한 단어 찾기\n",
        "w2v_model.wv.most_similar(positive=[\"인턴\"])"
      ],
      "execution_count": null,
      "outputs": [
        {
          "output_type": "execute_result",
          "data": {
            "text/plain": [
              "[('경험', 0.9999324083328247),\n",
              " ('운영', 0.9999285340309143),\n",
              " ('관심을', 0.9999275803565979),\n",
              " ('대외활동', 0.9999270439147949),\n",
              " ('대해서', 0.9999266266822815),\n",
              " ('관심이', 0.9999265074729919),\n",
              " ('제작', 0.9999262690544128),\n",
              " ('그로스', 0.9999262094497681),\n",
              " ('그럼', 0.9999262094497681),\n",
              " ('거예요', 0.999925971031189)]"
            ]
          },
          "metadata": {
            "tags": []
          },
          "execution_count": 9
        }
      ]
    },
    {
      "cell_type": "code",
      "metadata": {
        "colab": {
          "base_uri": "https://localhost:8080/"
        },
        "id": "D573OP96isL9",
        "outputId": "18b9ee30-4599-4a34-8b68-17bab70dc1d8"
      },
      "source": [
        "#2개의 단어 사이 유사도 측정하기\n",
        "w2v_model.wv.similarity('인턴', '공기업')"
      ],
      "execution_count": null,
      "outputs": [
        {
          "output_type": "execute_result",
          "data": {
            "text/plain": [
              "0.99991256"
            ]
          },
          "metadata": {
            "tags": []
          },
          "execution_count": 10
        }
      ]
    },
    {
      "cell_type": "code",
      "metadata": {
        "colab": {
          "base_uri": "https://localhost:8080/",
          "height": 89
        },
        "id": "J8jO-d1hivuC",
        "outputId": "b9a48b09-3fbd-45c5-9fbb-a494c1eafad4"
      },
      "source": [
        "#3개 단어 중 안 어울리는 단어 찾기\n",
        "w2v_model.wv.doesnt_match(['인턴', '근로장학생', '장학금'])"
      ],
      "execution_count": null,
      "outputs": [
        {
          "output_type": "stream",
          "text": [
            "/usr/local/lib/python3.7/dist-packages/gensim/models/keyedvectors.py:895: FutureWarning: arrays to stack must be passed as a \"sequence\" type such as list or tuple. Support for non-sequence iterables such as generators is deprecated as of NumPy 1.16 and will raise an error in the future.\n",
            "  vectors = vstack(self.word_vec(word, use_norm=True) for word in used_words).astype(REAL)\n"
          ],
          "name": "stderr"
        },
        {
          "output_type": "execute_result",
          "data": {
            "application/vnd.google.colaboratory.intrinsic+json": {
              "type": "string"
            },
            "text/plain": [
              "'인턴'"
            ]
          },
          "metadata": {
            "tags": []
          },
          "execution_count": 11
        }
      ]
    },
    {
      "cell_type": "markdown",
      "metadata": {
        "id": "Z0ASFfPYi9bm"
      },
      "source": [
        "#### 4) t-SNE를 이용한 시각화"
      ]
    },
    {
      "cell_type": "code",
      "metadata": {
        "id": "rCv-Hce7i5mC"
      },
      "source": [
        "import numpy as np\n",
        "import matplotlib.pyplot as plt\n",
        " \n",
        "import seaborn as sns\n",
        "sns.set_style(\"darkgrid\")\n",
        "\n",
        "from sklearn.decomposition import PCA\n",
        "from sklearn.manifold import TSNE"
      ],
      "execution_count": null,
      "outputs": []
    },
    {
      "cell_type": "code",
      "metadata": {
        "id": "mD0pZP3djE_p"
      },
      "source": [
        "def tsnescatterplot(model, word, list_names):\n",
        "    arrays = np.empty((0, 300), dtype='f')\n",
        "    word_labels = [word]\n",
        "    color_list  = ['red']\n",
        "\n",
        "    #query 단어의 벡터 표현 (빨강)\n",
        "    arrays = np.append(arrays, model.wv.__getitem__([word]), axis=0)\n",
        "    \n",
        "    #query 단어와 가장 유사한 단어들 찾기\n",
        "    close_words = model.wv.most_similar([word])\n",
        "    \n",
        "    #위에서 찾은 유사한 단어들의 벡터 표현 (파랑)\n",
        "    for wrd_score in close_words:\n",
        "        wrd_vector = model.wv.__getitem__([wrd_score[0]])\n",
        "        word_labels.append(wrd_score[0])\n",
        "        color_list.append('blue')\n",
        "        arrays = np.append(arrays, wrd_vector, axis=0)\n",
        "    \n",
        "    #각 입력된 list내 단어 벡터 표현 (초록)\n",
        "    for wrd in list_names:\n",
        "        wrd_vector = model.wv.__getitem__([wrd])\n",
        "        word_labels.append(wrd)\n",
        "        color_list.append('green')\n",
        "        arrays = np.append(arrays, wrd_vector, axis=0)\n",
        "        \n",
        "    #PCA로 300에서 50으로 차원 감소\n",
        "    reduc = PCA(n_components=50).fit_transform(arrays)\n",
        "    \n",
        "    #t-SNE 좌표를 2차원에서 찾아줌\n",
        "    np.set_printoptions(suppress=True)\n",
        "    Y = TSNE(n_components=2, random_state=0, perplexity=15).fit_transform(reduc)\n",
        "    \n",
        "    df = pd.DataFrame({'x': [x for x in Y[:, 0]],\n",
        "                       'y': [y for y in Y[:, 1]],\n",
        "                       'words': word_labels,\n",
        "                       'color': color_list})\n",
        "    \n",
        "    fig, _ = plt.subplots()\n",
        "    fig.set_size_inches(9, 9)\n",
        "    \n",
        "    p1 = sns.regplot(data=df,\n",
        "                     x=\"x\",\n",
        "                     y=\"y\",\n",
        "                     fit_reg=False,\n",
        "                     marker=\"o\",\n",
        "                     scatter_kws={'s': 40,\n",
        "                                  'facecolors': df['color']\n",
        "                                 }\n",
        "                    )\n",
        "    \n",
        "    #각 벡터 포인트에 annotation 추가\n",
        "    for line in range(0, df.shape[0]):\n",
        "         p1.text(df[\"x\"][line],\n",
        "                 df['y'][line],\n",
        "                 '  ' + df[\"words\"][line].title(),\n",
        "                 horizontalalignment='left',\n",
        "                 verticalalignment='bottom', size='medium',\n",
        "                 color=df['color'][line],\n",
        "                 weight='normal'\n",
        "                ).set_size(15)\n",
        "\n",
        "    \n",
        "    plt.xlim(Y[:, 0].min()-50, Y[:, 0].max()+50)\n",
        "    plt.ylim(Y[:, 1].min()-50, Y[:, 1].max()+50)\n",
        "            \n",
        "    plt.title('t-SNE visualization for {}'.format(word.title()))"
      ],
      "execution_count": null,
      "outputs": []
    },
    {
      "cell_type": "code",
      "metadata": {
        "colab": {
          "base_uri": "https://localhost:8080/",
          "height": 657
        },
        "id": "cAfz_1CgrMmO",
        "outputId": "2b88c5a1-b940-4a1b-d03c-8c89f5f1a776"
      },
      "source": [
        "tsnescatterplot(w2v_model, \"인턴\", [t[0] for t in w2v_model.wv.most_similar(positive=[\"인턴\"], topn=50)][10:])"
      ],
      "execution_count": null,
      "outputs": [
        {
          "output_type": "stream",
          "text": [
            "/usr/local/lib/python3.7/dist-packages/matplotlib/backends/backend_agg.py:214: RuntimeWarning: Glyph 8722 missing from current font.\n",
            "  font.set_text(s, 0.0, flags=flags)\n",
            "/usr/local/lib/python3.7/dist-packages/matplotlib/backends/backend_agg.py:183: RuntimeWarning: Glyph 8722 missing from current font.\n",
            "  font.set_text(s, 0, flags=flags)\n"
          ],
          "name": "stderr"
        },
        {
          "output_type": "display_data",
          "data": {
            "image/png": "[encoded data removed]",
            "text/plain": [
              "<Figure size 648x648 with 1 Axes>"
            ]
          },
          "metadata": {
            "tags": [],
            "image/png": {
              "width": 558,
              "height": 552
            }
          }
        }
      ]
    }
  ]
}